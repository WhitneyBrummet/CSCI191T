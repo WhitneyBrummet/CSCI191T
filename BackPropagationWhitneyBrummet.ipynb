{
  "nbformat": 4,
  "nbformat_minor": 0,
  "metadata": {
    "colab": {
      "name": "BackPropagationWhitneyBrummet",
      "provenance": []
    },
    "kernelspec": {
      "name": "python3",
      "display_name": "Python 3"
    },
    "language_info": {
      "name": "python"
    }
  },
  "cells": [
    {
      "cell_type": "markdown",
      "metadata": {
        "id": "N1WouEMhaWuE"
      },
      "source": [
        "# Backpropagation\n",
        "Whitney Brummet\n",
        "\n",
        "CSCI 191T"
      ]
    },
    {
      "cell_type": "code",
      "metadata": {
        "id": "wH-k1cgj3Dxe"
      },
      "source": [
        "#imports\n",
        "import random\n",
        "import math"
      ],
      "execution_count": 1,
      "outputs": []
    },
    {
      "cell_type": "markdown",
      "metadata": {
        "id": "gI_IMR7GbDAT"
      },
      "source": [
        "setting up input sets and r"
      ]
    },
    {
      "cell_type": "code",
      "metadata": {
        "id": "RObEAoct6WSo"
      },
      "source": [
        "#data\n",
        "data =  [((0,0), 0), ((0,1),1), ((1,0),1), ((1,1),0)]\n",
        "dataX = [x for x,y in data]\n",
        "\n",
        "#actual y\n",
        "r = [y for x,y in data]\n",
        "\n",
        "#x0 is 1 for all points\n",
        "x0 = [1, 1, 1, 1]\n",
        "\n",
        "#x1 is the first number in the pair and x2 is the second\n",
        "x1 = [x for x,y in dataX]\n",
        "x2 = [y for x,y in dataX]\n",
        "\n",
        "#combining x0, x1, x2 in a set of (x0, x1, x2) points\n",
        "inputs = [i for i in zip(x0, x1, x2)]"
      ],
      "execution_count": 2,
      "outputs": []
    },
    {
      "cell_type": "markdown",
      "metadata": {
        "id": "0wxxJ_yybP6-"
      },
      "source": [
        "setting random weights and defining functions and learning rates"
      ]
    },
    {
      "cell_type": "code",
      "metadata": {
        "colab": {
          "base_uri": "https://localhost:8080/"
        },
        "id": "qhsYRpi7zxKc",
        "outputId": "eb248a53-528b-4b9c-9a10-a41ccf9c5c5b"
      },
      "source": [
        "#Given weights. w1 and w2 used in the first layer. V1 used in in second layer.\n",
        "w1 = []\n",
        "w2 = []\n",
        "V1 = []\n",
        "iter = 0\n",
        "\n",
        "random.seed(1)\n",
        "for _ in range(9):\n",
        "  if iter == 0: \n",
        "    w1.append(random.gauss(-0.01, 0.01))\n",
        "  if iter == 1:\n",
        "    w1.append(random.gauss(-0.01, 0.01))\n",
        "  if iter == 2:\n",
        "    w1.append(random.gauss(-0.01, 0.01))\n",
        "  if iter == 3: \n",
        "    w2.append(random.gauss(-0.01, 0.01))\n",
        "  if iter == 4:\n",
        "    w2.append(random.gauss(-0.01, 0.01))\n",
        "  if iter == 5:\n",
        "    w2.append(random.gauss(-0.01, 0.01))\n",
        "  if iter == 6: \n",
        "    V1.append(random.gauss(-0.01, 0.01))\n",
        "  if iter == 7:\n",
        "    V1.append(random.gauss(-0.01, 0.01))\n",
        "  if iter == 8:\n",
        "    V1.append(random.gauss(-0.01, 0.01))\n",
        "  iter += 1\n",
        "\n",
        "#print all the given variables.\n",
        "print(\"Inputs: \", inputs)\n",
        "print(\"w1: \", w1)\n",
        "print(\"w2: \", w2)\n",
        "print(\"V1: \", V1)\n",
        "\n",
        "#functions. \n",
        "F = lambda W, X: sum([w*x for w,x in zip(W,X)])\n",
        "sigmoid = lambda y: 1/(1+math.exp(-y))  #used in first layer\n",
        "def classify(model, X):  return [1 if sigmoid(F(model, x)) > 0.5 else 0 for x in X]  #used in second layer\n",
        "\n",
        "#learning rate\n",
        "LR = 0.1"
      ],
      "execution_count": 3,
      "outputs": [
        {
          "output_type": "stream",
          "name": "stdout",
          "text": [
            "Inputs:  [(1, 0, 0), (1, 0, 1), (1, 1, 0), (1, 1, 1)]\n",
            "w1:  [0.0028818475315546283, 0.0044944560869977085, -0.009336641910617382]\n",
            "w2:  [-0.017645436509716318, -0.020921732151041414, -0.009686654831682831]\n",
            "V1:  [-0.02022103170010873, -0.0243682944510253, -0.008006880235162462]\n"
          ]
        }
      ]
    },
    {
      "cell_type": "markdown",
      "metadata": {
        "id": "JUr4NRIjb4XM"
      },
      "source": [
        "## Feed forward portion"
      ]
    },
    {
      "cell_type": "markdown",
      "metadata": {
        "id": "YyCpTsqNb-Yu"
      },
      "source": [
        "pulling inputs through the hidden layer"
      ]
    },
    {
      "cell_type": "code",
      "metadata": {
        "colab": {
          "base_uri": "https://localhost:8080/"
        },
        "id": "EhW-IwAU4dlz",
        "outputId": "fa9f30c1-9b2e-43a5-cdab-fdb750484b3a"
      },
      "source": [
        "z0 = [1,1,1,1]\n",
        "z1 = [sigmoid(F(w1, x)) for x in inputs] #z1 = sigmoid(F(w1, x)) where F(w1, x) is Zin which is (w1[0]*1 + w1[1]*x1 + w1[2]*2)\n",
        "z2 = [sigmoid(F(w2, x)) for x in inputs] #z2 = sigmoid(F(w2, x)) where F(w2, x) is Zin which is (w2[0]*1 + w2[1]*x1 + w2[2]*2)\n",
        "z = [j for j in zip(z0, z1, z2)] #z = the combination of all resulting points in this format: (z0, z1, z2)\n",
        "\n",
        "print(\"z: \", z) #the resulting dataset from the hidden layer"
      ],
      "execution_count": 4,
      "outputs": [
        {
          "output_type": "stream",
          "name": "stdout",
          "text": [
            "z:  [(1, 0.5007204613842667, 0.4955887553295975), (1, 0.49838630700802233, 0.49316740251315494), (1, 0.5018440675433583, 0.4903594027785017), (1, 0.4995099155839303, 0.48793888432619464)]\n"
          ]
        }
      ]
    },
    {
      "cell_type": "markdown",
      "metadata": {
        "id": "H9jMZMekcG4F"
      },
      "source": [
        "pulling inputs through the output layer\n",
        "update weights, pull through the layers again and repeat"
      ]
    },
    {
      "cell_type": "code",
      "metadata": {
        "colab": {
          "base_uri": "https://localhost:8080/"
        },
        "id": "bVPYqbEN4vLY",
        "outputId": "a8b43afa-78a8-43a4-ef01-4cfc14136eef"
      },
      "source": [
        "#y1 = V1[0]*z0 + V1[1]*z1 + V1[2]*z2\n",
        "y1 = [F(V1, x) for x in z] #y1 = the output set\n",
        "print(\"y1: \", y1)\n",
        "\n",
        "iter = 0\n",
        "\n",
        "for _ in range(10000):\n",
        "  deltaV0 = LR*sum([((r-y)*z[0]) for r,y,z, in zip(r, y1, z)])\n",
        "  deltaV1 = LR*sum([((r-y)*z[1]) for r,y,z, in zip(r, y1, z)])\n",
        "  deltaV2 = LR*sum([((r-y)*z[2]) for r,y,z, in zip(r, y1, z)])\n",
        "\n",
        "  V1[0] = V1[0] + deltaV0\n",
        "  V1[1] = V1[1] + deltaV1\n",
        "  V1[2] = V1[2] + deltaV1\n",
        "\n",
        "  pDelta1 = sum([((r-y)*V1[0]) for r,y,v in zip(r,y1,V1)])\n",
        "  pDelta2 = sum([((r-y)*V1[1]) for r,y,v in zip(r,y1,V1)])\n",
        "  pDelta3 = sum([((r-y)*V1[2]) for r,y,v in zip(r,y1,V1)])\n",
        "\n",
        "  h1 = sum([(x[0]*w1[0]+x[1]*w1[1]+x[2]*w1[2]) for x in inputs])\n",
        "  h2 = sum([(x[0]*w2[0]+x[1]*w2[1]+x[2]*w2[2]) for x in inputs])\n",
        "  \n",
        "  deltaAll = [pDelta1+pDelta2+pDelta3, pDelta1+pDelta2+pDelta3, pDelta1+pDelta2+pDelta3]\n",
        "\n",
        "  deltaw10 = LR*sum([((r-y)*V1[1]*z[1]*(1-z[1])*x[0]) for r,y,v,z,x in zip(r,y1,V1,z,inputs)]) \n",
        "  deltaw11 = LR*sum([((r-y)*V1[1]*z[1]*(1-z[1])*x[1]) for r,y,v,z,x in zip(r,y1,V1,z,inputs)]) \n",
        "  deltaw12 = LR*sum([((r-y)*V1[1]*z[1]*(1-z[1])*x[2]) for r,y,v,z,x in zip(r,y1,V1,z,inputs)]) \n",
        "\n",
        "  deltaw20 = LR*sum([((r-y)*V1[2]*z[2]*(1-z[2])*x[0]) for r,y,v,z,x in zip(r,y1,V1,z,inputs)])\n",
        "  deltaw21 = LR*sum([((r-y)*V1[2]*z[2]*(1-z[2])*x[1]) for r,y,v,z,x in zip(r,y1,V1,z,inputs)])\n",
        "  deltaw22 = LR*sum([((r-y)*V1[2]*z[2]*(1-z[2])*x[2]) for r,y,v,z,x in zip(r,y1,V1,z,inputs)]) \n",
        "\n",
        "  w1[0] = w1[0] - deltaw10\n",
        "  w1[1] = w1[1] - deltaw11\n",
        "  w1[2] = w1[2] - deltaw12\n",
        "\n",
        "  w2[0] = w2[0] - deltaw20\n",
        "  w2[1] = w2[1] - deltaw21\n",
        "  w2[2] = w2[2] - deltaw22\n",
        "\n",
        "  #zh = sigmoid(w^Th*x^t)\n",
        "  z1 = [sigmoid(F(w1, x)) for x in inputs] #z1 = sigmoid(F(w1, x)) where F(w1, x) is Zin which is (w1[0]*1 + w1[1]*x1 + w1[2]*2)\n",
        "  z2 = [sigmoid(F(w2, x)) for x in inputs] #z2 = sigmoid(F(w2, x)) where F(w2, x) is Zin which is (w2[0]*1 + w2[1]*x1 + w2[2]*2)\n",
        "  z = [j for j in zip(z0, z1, z2)] #z = the combination of all resulting points in this format: (z0, z1, z2)\n",
        "\n",
        "  #yi = v^Tiz\n",
        "  y1 = [F(V1, z) for z in z] #y1 = the output set\n",
        "  if iter % 1000 == 0:\n",
        "    print(\"iteration: \", iter)\n",
        "    print(\"y1: \", y1)\n",
        "    print(\"Classification: \", classify(V1, z))\n",
        "    print(\"r: \", r)\n",
        "    print(\"w1: \", w1)\n",
        "    print(\"w2: \", w2)\n",
        "    print(\"V: \", V1)\n",
        "    print(\"\")\n",
        "  iter += 1"
      ],
      "execution_count": 5,
      "outputs": [
        {
          "output_type": "stream",
          "name": "stdout",
          "text": [
            "y1:  [-0.0363908551505911, -0.036314588307448305, -0.03637636471673876, -0.03630010461314336]\n",
            "iteration:  0\n",
            "y1:  [0.28482462141067316, 0.284282312384848, 0.2842902942613244, 0.28374812912136504]\n",
            "Classification:  [1, 1, 1, 1]\n",
            "r:  [0, 1, 1, 0]\n",
            "w1:  [-0.0014905188478464932, 0.002345933843739398, -0.01148504293014629]\n",
            "w2:  [-0.022879099946414187, -0.023493241842847474, -0.01225848718778291]\n",
            "V:  [0.19431715957868345, 0.08292552944022537, 0.0992869436560882]\n",
            "\n",
            "iteration:  1000\n",
            "y1:  [0.5025678071413542, 0.5000458729884821, 0.49995226048347047, 0.4975262300988189]\n",
            "Classification:  [1, 1, 1, 1]\n",
            "r:  [0, 1, 1, 0]\n",
            "w1:  [0.18935690007345735, 0.17341112804696424, 0.15963799625990585]\n",
            "w2:  [-0.0339447199104217, -0.054832537159238644, -0.04381019749209215]\n",
            "V:  [0.5807254406816899, -0.08298684534993608, -0.06662543113407325]\n",
            "\n",
            "iteration:  2000\n",
            "y1:  [0.5108564286961453, 0.49933824999373677, 0.4994227238503638, 0.4896082312840564]\n",
            "Classification:  [1, 1, 1, 1]\n",
            "r:  [0, 1, 1, 0]\n",
            "w1:  [-0.03544021010509153, -0.05262750125847057, -0.06664823302372908]\n",
            "w2:  [-0.4137169720759858, -0.45727721450953435, -0.44727422722855276]\n",
            "V:  [0.42969248765371826, 0.08395741763013537, 0.10031883184599817]\n",
            "\n",
            "iteration:  3000\n",
            "y1:  [0.49606341142701577, 0.5002739088274465, 0.5001621114587462, 0.5034157734911965]\n",
            "Classification:  [1, 1, 1, 1]\n",
            "r:  [0, 1, 1, 0]\n",
            "w1:  [0.0011098754845558386, -0.025228848800192494, -0.03935931947844246]\n",
            "w2:  [-0.516470380584529, -0.5967234756129107, -0.5874093168752518]\n",
            "V:  [0.5305611112304881, -0.046468731422215206, -0.03010731720635245]\n",
            "\n",
            "iteration:  4000\n",
            "y1:  [0.5046430064698951, 0.4997965274957051, 0.4998271431053428, 0.4964958123911227]\n",
            "Classification:  [1, 1, 1, 1]\n",
            "r:  [0, 1, 1, 0]\n",
            "w1:  [0.2405893893734948, 0.215386730394516, 0.20154630950301036]\n",
            "w2:  [-0.49209240438941104, -0.5664798753427583, -0.5570518361738718]\n",
            "V:  [0.460352164135264, 0.04054609235614914, 0.0569075065720119]\n",
            "\n",
            "iteration:  5000\n",
            "y1:  [0.49804295944499427, 0.4999659622661244, 0.4999024320619078, 0.5014370584663075]\n",
            "Classification:  [1, 1, 1, 1]\n",
            "r:  [0, 1, 1, 0]\n",
            "w1:  [-0.19955189715960728, -0.23824700993432588, -0.25217468340189025]\n",
            "w2:  [-0.7180388468429657, -0.9851291737644389, -0.977855545118335]\n",
            "V:  [0.5084660942481404, -0.020288878742307632, -0.003927464526444765]\n",
            "\n",
            "iteration:  6000\n",
            "y1:  [0.4991490397112158, 0.5002936354331269, 0.5002070654556056, 0.5004824848295606]\n",
            "Classification:  [1, 1, 1, 1]\n",
            "r:  [0, 1, 1, 0]\n",
            "w1:  [0.1815936488988765, 0.14508056684947518, 0.13091251029492193]\n",
            "w2:  [-0.6790322829881505, -0.8847099971245849, -0.8769468228956662]\n",
            "V:  [0.5194072316619256, -0.029218481691612914, -0.01285706747575]\n",
            "\n",
            "iteration:  7000\n",
            "y1:  [0.5087834729486055, 0.498611080759579, 0.4987110403131555, 0.49387028489834595]\n",
            "Classification:  [1, 1, 1, 1]\n",
            "r:  [0, 1, 1, 0]\n",
            "w1:  [0.08153094292687543, 0.04212890893050086, 0.027762769769156814]\n",
            "w2:  [-0.73158518440143, -1.0487313232659419, -1.0418132852569433]\n",
            "V:  [0.4680958987143949, 0.041850269343453865, 0.058211683559316746]\n",
            "\n",
            "iteration:  8000\n",
            "y1:  [0.49810050584423005, 0.5001565438284882, 0.5000835016116211, 0.5014693741724114]\n",
            "Classification:  [1, 1, 1, 1]\n",
            "r:  [0, 1, 1, 0]\n",
            "w1:  [-0.11753793314490739, -0.16190832578757555, -0.17620142566056024]\n",
            "w2:  [-0.7440219664033165, -1.2362580590470105, -1.2302611516703474]\n",
            "V:  [0.5101699197211892, -0.021872344900379564, -0.005510930684516678]\n",
            "\n",
            "iteration:  9000\n",
            "y1:  [0.4998574860621372, 0.5001927609065857, 0.5001220039303192, 0.4999377664655115]\n",
            "Classification:  [1, 1, 1, 1]\n",
            "r:  [0, 1, 1, 0]\n",
            "w1:  [0.17127586731258904, 0.1277283720544505, 0.1133946471301757]\n",
            "w2:  [-0.7444334870936816, -1.1985538668491558, -1.192389996454111]\n",
            "V:  [0.5128174209707458, -0.021079953086394706, -0.004718538870531782]\n",
            "\n"
          ]
        }
      ]
    }
  ]
}