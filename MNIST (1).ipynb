{
  "nbformat": 4,
  "nbformat_minor": 0,
  "metadata": {
    "colab": {
      "name": "MNIST.ipynb",
      "provenance": []
    },
    "kernelspec": {
      "name": "python3",
      "display_name": "Python 3"
    },
    "language_info": {
      "name": "python"
    }
  },
  "cells": [
    {
      "cell_type": "markdown",
      "metadata": {
        "id": "C8tHLFJvrj-I"
      },
      "source": [
        "# MNIST\n",
        "###Whitney Brummet\n",
        "###CSCI 191\n"
      ]
    },
    {
      "cell_type": "code",
      "metadata": {
        "id": "WXiQwW3uVfzl"
      },
      "source": [
        "import numpy as np\n",
        "import pandas as pd \n",
        "from matplotlib import pyplot as plt\n",
        "from sklearn.neural_network import MLPClassifier\n",
        "from sklearn.model_selection import train_test_split\n",
        "%matplotlib inline  "
      ],
      "execution_count": 62,
      "outputs": []
    },
    {
      "cell_type": "code",
      "metadata": {
        "id": "aXYP9XY0Vl2R"
      },
      "source": [
        "data=pd.read_csv('/content/sample_data/train.csv')"
      ],
      "execution_count": 63,
      "outputs": []
    },
    {
      "cell_type": "code",
      "metadata": {
        "colab": {
          "base_uri": "https://localhost:8080/"
        },
        "id": "DBqFQ0HIWRAL",
        "outputId": "89e4faf1-8f98-483d-db48-53a5186bd67c"
      },
      "source": [
        "#splitting data into x and r\n",
        "\n",
        "x=data.iloc[:,1:]\n",
        "r=data.iloc[:,0]\n",
        "\n",
        "#splitting x and r into test and train sets\n",
        "x_train, x_test, y_train, y_test = train_test_split(x, r, test_size=0.2, random_state=4)\n",
        "\n",
        "#implementing the MLPClassifier\n",
        "nn=MLPClassifier(activation='logistic',solver='sgd',hidden_layer_sizes=(20,15),random_state=1)\n",
        "\n",
        "#training the data\n",
        "nn.fit(x_train,y_train)\n",
        "\n",
        "#making a prediction\n",
        "pred=nn.predict(x_test)\n",
        "\n",
        "#finding number of correct predictions\n",
        "a=y_test.values\n",
        "count=0\n",
        "\n",
        "for i in range(len(pred)):\n",
        "    if pred[i]==a[i]:\n",
        "        count=count+1\n",
        "\n",
        "#calculating accuracy\n",
        "count/len(pred)"
      ],
      "execution_count": 66,
      "outputs": [
        {
          "output_type": "stream",
          "name": "stderr",
          "text": [
            "/usr/local/lib/python3.7/dist-packages/sklearn/neural_network/_multilayer_perceptron.py:696: ConvergenceWarning: Stochastic Optimizer: Maximum iterations (200) reached and the optimization hasn't converged yet.\n",
            "  ConvergenceWarning,\n"
          ]
        },
        {
          "output_type": "execute_result",
          "data": {
            "text/plain": [
              "0.9053571428571429"
            ]
          },
          "metadata": {},
          "execution_count": 66
        }
      ]
    }
  ]
}