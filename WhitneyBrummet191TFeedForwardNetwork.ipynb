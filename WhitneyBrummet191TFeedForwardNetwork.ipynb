{
  "nbformat": 4,
  "nbformat_minor": 0,
  "metadata": {
    "colab": {
      "name": "WhitneyBrummet191TFeedForwardNetwork.ipynb",
      "provenance": [],
      "collapsed_sections": []
    },
    "kernelspec": {
      "name": "python3",
      "display_name": "Python 3"
    },
    "language_info": {
      "name": "python"
    }
  },
  "cells": [
    {
      "cell_type": "markdown",
      "metadata": {
        "id": "lE1cL1-vWK1k"
      },
      "source": [
        "# Feed Forward Network"
      ]
    },
    {
      "cell_type": "markdown",
      "metadata": {
        "id": "Y4surAV4WjAr"
      },
      "source": [
        "### CSCI 191T\n",
        "Whitney Brummet"
      ]
    },
    {
      "cell_type": "markdown",
      "metadata": {
        "id": "HhHISkgWW8ky"
      },
      "source": [
        "Imports"
      ]
    },
    {
      "cell_type": "code",
      "metadata": {
        "id": "xUm6fWYcW4if"
      },
      "source": [
        "import math"
      ],
      "execution_count": 1,
      "outputs": []
    },
    {
      "cell_type": "markdown",
      "metadata": {
        "id": "vl_SocSoXErf"
      },
      "source": [
        "Data which it transformed into the inputs for the input layer"
      ]
    },
    {
      "cell_type": "code",
      "metadata": {
        "id": "O8b_4270XzM-"
      },
      "source": [
        "#data\n",
        "data = [(0,0), (0,1), (1,0), (1,1)]\n",
        "\n",
        "#x0 is 1 for all points\n",
        "x0 = [1, 1, 1, 1]\n",
        "\n",
        "#x1 is the first number in the pair and x2 is the second\n",
        "x1 = [x for x,y in data]\n",
        "x2 = [y for x,y in data]\n",
        "\n",
        "#combining x0, x1, x2 in a set of (x0, x1, x2) points\n",
        "inputs = [i for i in zip(x0, x1, x2)]"
      ],
      "execution_count": 2,
      "outputs": []
    },
    {
      "cell_type": "markdown",
      "metadata": {
        "id": "shEVXL1JX593"
      },
      "source": [
        "Given weight vectors and function definitions. Functions to be used within the layers."
      ]
    },
    {
      "cell_type": "code",
      "metadata": {
        "colab": {
          "base_uri": "https://localhost:8080/"
        },
        "id": "wW6mb89FYuGo",
        "outputId": "6fbc03bf-f06e-4bbd-d267-e96ccecebd89"
      },
      "source": [
        "#Given weights. w1 and w2 used in the first layer. V1 used in in second layer.\n",
        "w1 = [3.19304864, 9.93278091, -4.74659947]\n",
        "w2 = [-1.59451474, 9.97879746, 4.47953684]\n",
        "V1 = [0.32620883, -8.71647388, 8.39004239]\n",
        "\n",
        "#print all the given variables.\n",
        "print(\"Inputs: \", inputs)\n",
        "print(\"w1: \", w1)\n",
        "print(\"w2: \", w2)\n",
        "print(\"V1: \", V1)\n",
        "\n",
        "#functions. \n",
        "F = lambda W, X: sum([w*x for w,x in zip(W,X)])\n",
        "sigmoid = lambda y: 1/(1+math.exp(-y))  #used in first layer\n",
        "def classify(model, X):  return [1 if sigmoid(F(model, x)) > 0.5 else 0 for x in X]  #used in second layer"
      ],
      "execution_count": 41,
      "outputs": [
        {
          "output_type": "stream",
          "name": "stdout",
          "text": [
            "Inputs:  [(1, 0, 0), (1, 0, 1), (1, 1, 0), (1, 1, 1)]\n",
            "w1:  [3.19304864, 9.93278091, -4.74659947]\n",
            "w2:  [-1.59451474, 9.97879746, 4.47953684]\n",
            "V1:  [0.32620883, -8.71647388, 8.39004239]\n"
          ]
        }
      ]
    },
    {
      "cell_type": "markdown",
      "metadata": {
        "id": "lt4IkNksY0Ui"
      },
      "source": [
        "Moving the data from the input layer into the hidden layer (z)"
      ]
    },
    {
      "cell_type": "code",
      "metadata": {
        "colab": {
          "base_uri": "https://localhost:8080/"
        },
        "id": "zLZBYwRQaQax",
        "outputId": "a7259aad-d161-44b5-9930-05f75b99b91d"
      },
      "source": [
        "z0 = [1,1,1,1]\n",
        "z1 = [sigmoid(F(w1, x)) for x in inputs] #z1 = sigmoid(F(w1, x)) where F(w1, x) is Zin which is (w1[0]*1 + w1[1]*x1 + w1[2]*2)\n",
        "z2 = [sigmoid(F(w2, x)) for x in inputs] #z2 = sigmoid(F(w2, x)) where F(w2, x) is Zin which is (w2[0]*1 + w2[1]*x1 + w2[2]*2)\n",
        "z = [j for j in zip(z0, z1, z2)] #z = the combination of all resulting points in this format: (z0, z1, z2)\n",
        "\n",
        "print(\"z: \", z) #the resulting dataset from the hidden layer"
      ],
      "execution_count": 14,
      "outputs": [
        {
          "output_type": "stream",
          "name": "stdout",
          "text": [
            "z:  [(1, 0.9605718456066229, 0.16874965243320605), (1, 0.17457400953677152, 0.9471010398304239), (1, 0.9999980069243171, 0.9997716226203648), (1, 0.9997704660571543, 0.9999974099209205)]\n"
          ]
        }
      ]
    },
    {
      "cell_type": "markdown",
      "metadata": {
        "id": "dADBBBXlh4wK"
      },
      "source": [
        "Moving the data from the hidden layer into the output layer"
      ]
    },
    {
      "cell_type": "code",
      "metadata": {
        "colab": {
          "base_uri": "https://localhost:8080/"
        },
        "id": "aDcDoHjrNsrK",
        "outputId": "0e44e062-4549-42ab-eb4c-740cf9550f14"
      },
      "source": [
        "#y1 = V1[0]*z0 + V1[1]*z1 + V1[2]*z2\n",
        "y1 = [F(V1, x) for x in z] #y1 = the output set\n",
        "print(\"y1: \", y1)\n",
        "\n",
        "print(\"Classification: \", classify(V1, z))"
      ],
      "execution_count": 42,
      "outputs": [
        {
          "output_type": "stream",
          "name": "stdout",
          "text": [
            "y1:  [-6.630773834881156, 6.750756907536195, -0.0021213833039261942, 0.0017563357441172656]\n",
            "Classification:  [0, 1, 0, 1]\n"
          ]
        }
      ]
    }
  ]
}